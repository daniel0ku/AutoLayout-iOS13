{
  "cells": [
    {
      "cell_type": "markdown",
      "metadata": {
        "id": "view-in-github",
        "colab_type": "text"
      },
      "source": [
        "<a href=\"https://colab.research.google.com/github/daniel0ku/AutoLayout-iOS13/blob/master/Machine_Learning_Capstone_Project.ipynb\" target=\"_parent\"><img src=\"https://colab.research.google.com/assets/colab-badge.svg\" alt=\"Open In Colab\"/></a>"
      ]
    },
    {
      "cell_type": "markdown",
      "source": [
        "# Home Credit Default Risk"
      ],
      "metadata": {
        "id": "7QmzxRpqoNA5"
      }
    },
    {
      "cell_type": "markdown",
      "source": [
        "## About The Capstone Project"
      ],
      "metadata": {
        "id": "5RsVdgQToakJ"
      }
    },
    {
      "cell_type": "markdown",
      "source": [
        "Many people can’t get loans because they don’t have enough credit history, leaving them vulnerable to unfair lenders. Home Credit Group helps these individuals by using alternative data, like phone and transaction records, to predict if they can repay a loan. They’re asking for help to improve their methods, so more people get fair and manageable loans that set them up for success."
      ],
      "metadata": {
        "id": "uOL2h1CsocK7"
      }
    },
    {
      "cell_type": "markdown",
      "source": [
        "## Goal"
      ],
      "metadata": {
        "id": "a0QHaocWoU2S"
      }
    },
    {
      "cell_type": "markdown",
      "source": [
        "The primary goal is to build a machine learning model that predicts whether an applicant will repay a loan or default, based on their financial, demographic, and historical data."
      ],
      "metadata": {
        "id": "rRzvrMf-oWYW"
      }
    },
    {
      "cell_type": "markdown",
      "metadata": {
        "id": "uJP5Ag-Sz4du"
      },
      "source": [
        "# Notebook Preparation"
      ]
    },
    {
      "cell_type": "code",
      "execution_count": null,
      "metadata": {
        "id": "aDIxdVfu4C2I"
      },
      "outputs": [],
      "source": [
        "import pandas as pd\n",
        "import matplotlib.pyplot as plt\n",
        "import seaborn as sns"
      ]
    },
    {
      "cell_type": "code",
      "execution_count": null,
      "metadata": {
        "id": "fD3AXfZJ4U_r",
        "colab": {
          "base_uri": "https://localhost:8080/"
        },
        "outputId": "88b5a466-c1a5-446d-d363-7e7c44b19818"
      },
      "outputs": [
        {
          "output_type": "stream",
          "name": "stdout",
          "text": [
            "Mounted at /content/drive/\n"
          ]
        }
      ],
      "source": [
        "from google.colab import drive\n",
        "drive.mount('/content/drive/')"
      ]
    },
    {
      "cell_type": "code",
      "source": [
        "from EDA_Utilities import *"
      ],
      "metadata": {
        "colab": {
          "base_uri": "https://localhost:8080/",
          "height": 315
        },
        "id": "nOTywYyRSZX4",
        "outputId": "cfdb50fe-440c-44ea-9c45-f055f1dbfebf"
      },
      "execution_count": null,
      "outputs": [
        {
          "output_type": "error",
          "ename": "ModuleNotFoundError",
          "evalue": "No module named 'EDA_Utilities'",
          "traceback": [
            "\u001b[0;31m---------------------------------------------------------------------------\u001b[0m",
            "\u001b[0;31mModuleNotFoundError\u001b[0m                       Traceback (most recent call last)",
            "\u001b[0;32m<ipython-input-4-f48d9826a1ed>\u001b[0m in \u001b[0;36m<cell line: 1>\u001b[0;34m()\u001b[0m\n\u001b[0;32m----> 1\u001b[0;31m \u001b[0;32mfrom\u001b[0m \u001b[0mEDA_Utilities\u001b[0m \u001b[0;32mimport\u001b[0m \u001b[0;34m*\u001b[0m\u001b[0;34m\u001b[0m\u001b[0;34m\u001b[0m\u001b[0m\n\u001b[0m",
            "\u001b[0;31mModuleNotFoundError\u001b[0m: No module named 'EDA_Utilities'",
            "",
            "\u001b[0;31m---------------------------------------------------------------------------\u001b[0;32m\nNOTE: If your import is failing due to a missing package, you can\nmanually install dependencies using either !pip or !apt.\n\nTo view examples of installing some common dependencies, click the\n\"Open Examples\" button below.\n\u001b[0;31m---------------------------------------------------------------------------\u001b[0m\n"
          ],
          "errorDetails": {
            "actions": [
              {
                "action": "open_url",
                "actionText": "Open Examples",
                "url": "/notebooks/snippets/importing_libraries.ipynb"
              }
            ]
          }
        }
      ]
    },
    {
      "cell_type": "code",
      "execution_count": null,
      "metadata": {
        "id": "m--F1hVx45KF"
      },
      "outputs": [],
      "source": [
        "description = pd.read_csv('/content/drive/MyDrive/Colab Notebooks/Machine Learning Capstone Project/home-credit-default-risk/HomeCredit_columns_description.csv', encoding = 'ISO-8859-1')\n",
        "test = pd.read_csv('/content/drive/MyDrive/Colab Notebooks/Machine Learning Capstone Project/home-credit-default-risk/application_test.csv', encoding = 'ISO-8859-1')\n",
        "train = pd.read_csv('/content/drive/MyDrive/Colab Notebooks/Machine Learning Capstone Project/home-credit-default-risk/application_train.csv', encoding = 'ISO-8859-1')\n",
        "bureau = pd.read_csv('/content/drive/MyDrive/Colab Notebooks/Machine Learning Capstone Project/home-credit-default-risk/bureau.csv', encoding = 'ISO-8859-1')\n",
        "bureau_balance = pd.read_csv('/content/drive/MyDrive/Colab Notebooks/Machine Learning Capstone Project/home-credit-default-risk/bureau_balance.csv', encoding = 'ISO-8859-1')\n",
        "credit_balance = pd.read_csv('/content/drive/MyDrive/Colab Notebooks/Machine Learning Capstone Project/home-credit-default-risk/credit_card_balance.csv', encoding = 'ISO-8859-1')\n",
        "payments = pd.read_csv('/content/drive/MyDrive/Colab Notebooks/Machine Learning Capstone Project/home-credit-default-risk/installments_payments.csv', encoding = 'ISO-8859-1')"
      ]
    },
    {
      "cell_type": "code",
      "execution_count": null,
      "metadata": {
        "id": "x8ynAsCm48vE"
      },
      "outputs": [],
      "source": [
        "description.head(5)"
      ]
    },
    {
      "cell_type": "code",
      "execution_count": null,
      "metadata": {
        "id": "k9L4Lv9b5QiC"
      },
      "outputs": [],
      "source": [
        "test.head(5)"
      ]
    },
    {
      "cell_type": "code",
      "execution_count": null,
      "metadata": {
        "id": "bEgNQaXc6OR9"
      },
      "outputs": [],
      "source": [
        "train.head(5)"
      ]
    },
    {
      "cell_type": "code",
      "execution_count": null,
      "metadata": {
        "id": "NNxKPVql6Qzh"
      },
      "outputs": [],
      "source": [
        "bureau.head(5)"
      ]
    },
    {
      "cell_type": "code",
      "execution_count": null,
      "metadata": {
        "id": "ty9X8yoS6Sr3"
      },
      "outputs": [],
      "source": [
        "bureau_balance.head(5)"
      ]
    },
    {
      "cell_type": "code",
      "execution_count": null,
      "metadata": {
        "id": "64YzcxAu6UJ0"
      },
      "outputs": [],
      "source": [
        "credit_balance.head(5)"
      ]
    },
    {
      "cell_type": "code",
      "execution_count": null,
      "metadata": {
        "id": "5m9czg4E6Wbg"
      },
      "outputs": [],
      "source": [
        "payments.head(5)"
      ]
    },
    {
      "cell_type": "code",
      "execution_count": null,
      "metadata": {
        "id": "RJ13LLVI6apk"
      },
      "outputs": [],
      "source": [
        "train.describe()"
      ]
    },
    {
      "cell_type": "code",
      "execution_count": null,
      "metadata": {
        "id": "Dk6Sm5VLPGWP"
      },
      "outputs": [],
      "source": [
        "train.columns.tolist()"
      ]
    },
    {
      "cell_type": "code",
      "execution_count": null,
      "metadata": {
        "id": "3s5C5Uxc1DG1"
      },
      "outputs": [],
      "source": [
        "missing_values = train.isnull().sum()\n",
        "missing_values"
      ]
    },
    {
      "cell_type": "code",
      "source": [
        "# prompt: i need to plot the distribution of what data type is being used in the dataset. plot a barplot\n",
        "\n",
        "import matplotlib.pyplot as plt\n",
        "import seaborn as sns\n",
        "\n",
        "# Count data types\n",
        "data_types = train.dtypes.value_counts()\n",
        "\n",
        "# Create bar plot\n",
        "plt.figure(figsize=(10, 6))\n",
        "sns.barplot(x=data_types.index, y=data_types.values)\n",
        "plt.title('Distribution of Data Types in the Dataset')\n",
        "plt.xlabel('Data Type')\n",
        "plt.ylabel('Count')\n",
        "plt.xticks(rotation=45)\n",
        "plt.show()"
      ],
      "metadata": {
        "id": "evbs1k26jeTC"
      },
      "execution_count": null,
      "outputs": []
    },
    {
      "cell_type": "markdown",
      "metadata": {
        "id": "fLEY7KYxTQI0"
      },
      "source": [
        "## EDA"
      ]
    },
    {
      "cell_type": "markdown",
      "metadata": {
        "id": "6eIIcCEo3rBe"
      },
      "source": [
        "Identification Columns:\n",
        "* SD_ID_CURR\n",
        "* TARGET\n",
        "\n",
        "Loan Information:\n",
        "* NAME_CONTRACT_TYPE\n",
        "* AMT_CREDIT\n",
        "* AMT_ANNUITY\n",
        "* AMT_GOODS_PRICE\n",
        "\n",
        "Demographic Information:\n",
        "* CODE_GENDER\n",
        "* FLAG_OWN_CAR\n",
        "* FLAG_OWN_REALTY\n",
        "* CNT_CHILDREN\n",
        "* AMT_INCOME_TOTAL\n",
        "\n",
        "Employment and Education:\n",
        "* NAME_INCOME_TYPE\n",
        "* NAME_EDUCATION_TYPE\n",
        "* DAYS_EMPLOYED\n",
        "* OCCUPATION_TYPE\n",
        "* FLAG_EMP_PHONE\n",
        "\n",
        "Family and Housing:\n",
        "* NAME_FAMILY_STATUS\n",
        "* NAME_HOUSING_TYPE\n",
        "* CNT_FAM_MEMBERS\n",
        "\n",
        "Regional and Residency Information:\n",
        "* REGION_POPULATION_RELATIVE\n",
        "* DAYS_BIRTH\n",
        "* DAYS_REGISTRATION\n",
        "* REG_REGION_NOT_LIVE_REGION\n",
        "* REG_CITY_NOT_LIVE_CITY\n",
        "\n",
        "Application and Processing Information:\n",
        "* WEEKDAY_APPR_PROCESS_START\n",
        "* HOUR_APPR_PROCESS_START\n",
        "* ORGANIZATION_TYPE\n",
        "* FLAG_EMAIL\n",
        "\n",
        "Housing Characteristics (Aggregates and Averages):\n",
        "* APARTMENTS_AVG, BASEMENTAREA_AVG, YEARS_BEGINEXPLUATATION_AVG, YEARS_BUILD_AVG\n",
        "* ELEVATORS_AVG, ENTRANCES_AVG, FLOORSMAX_AVG\n",
        "\n",
        "Social Connections:\n",
        "* OBS_30_CNT_SOCIAL_CIRCLE\n",
        "* DEF_30_CNT_SOCIAL_CIRCLE\n",
        "* OBS_60_CNT_SOCIAL_CIRCLE, DEF_60_CNT_SOCIAL_CIRCLE\n",
        "\n",
        "Document Flags:\n",
        "* FLAG_DOCUMENT_2 to FLAG_DOCUMENT_21\n",
        "\n",
        "Credit Bureau Data:\n",
        "* AMT_REQ_CREDIT_BUREAU_HOUR, AMT_REQ_CREDIT_BUREAU_DAY, AMT_REQ_CREDIT_BUREAU_WEEK\n",
        "\n",
        "External Sources and Scoring:\n",
        "* EXT_SOURCE_1, EXT_SOURCE_2, EXT_SOURCE_3\n",
        "\n"
      ]
    },
    {
      "cell_type": "markdown",
      "source": [
        "### Frame the Problem and look at the big picture"
      ],
      "metadata": {
        "id": "KhjKKIZ7j0wO"
      }
    },
    {
      "cell_type": "markdown",
      "source": [
        "The primary goal is to build a machine learning model that predicts whether an applicant will repay a loan or default, based on their financial, demographic, and historical data."
      ],
      "metadata": {
        "id": "rLkEHITulXbT"
      }
    },
    {
      "cell_type": "code",
      "source": [
        "target_counts = train['TARGET'].value_counts()\n",
        "\n",
        "plt.figure(figsize=(8, 8))\n",
        "plt.pie(target_counts, labels=target_counts.index, autopct='%1.1f%%', startangle=90)\n",
        "plt.title('Distribution of Target Variable')\n",
        "plt.axis('equal')\n",
        "plt.show()"
      ],
      "metadata": {
        "id": "ycqBtV-klW0h"
      },
      "execution_count": null,
      "outputs": []
    },
    {
      "cell_type": "markdown",
      "source": [
        "The data is highly imbalanced, with 91.9% in class 0 (no payment issues) and only 8.1% in class 1 (payment issues). This can cause models to favor the majority class, so techniques like resampling or class weighting are needed to handle it effectively."
      ],
      "metadata": {
        "id": "ltCTEDFgn_kc"
      }
    },
    {
      "cell_type": "markdown",
      "source": [
        "### Loan Information\n",
        "\n",
        "* NAME_CONTRACT_TYPE\n",
        "* AMT_CREDIT\n",
        "* AMT_ANNUITY\n",
        "* AMT_GOODS_PRICE"
      ],
      "metadata": {
        "id": "dilI2dmep1pW"
      }
    },
    {
      "cell_type": "code",
      "source": [
        "columns_to_describe = ['NAME_CONTRACT_TYPE', 'AMT_CREDIT', 'AMT_ANNUITY', 'AMT_GOODS_PRICE']\n",
        "train[columns_to_describe].describe(include='all')"
      ],
      "metadata": {
        "id": "KYb4BnhSuavJ"
      },
      "execution_count": null,
      "outputs": []
    },
    {
      "cell_type": "code",
      "source": [
        "plot_distribution_by_target(train, 'NAME_CONTRACT_TYPE', 'TARGET')"
      ],
      "metadata": {
        "id": "J5CMcnXt08w9"
      },
      "execution_count": null,
      "outputs": []
    },
    {
      "cell_type": "markdown",
      "source": [
        "\n",
        "The left chart reveals that cash loans are far more common than revolving loans. The right chart shows that both cash and revolving loans have similar repayment patterns, with most being repaid (TARGET 0 = repaid, TARGET 1 = default)"
      ],
      "metadata": {
        "id": "fvXLzhyRrb70"
      }
    },
    {
      "cell_type": "code",
      "source": [
        "plot_feature_distribution_by_target(train, 'AMT_CREDIT', 'TARGET')"
      ],
      "metadata": {
        "id": "Allo2MTE7kFm"
      },
      "execution_count": null,
      "outputs": []
    },
    {
      "cell_type": "markdown",
      "source": [
        "The chart shows AMT_CREDIT distribution for repaid loans (blue, TARGET = 0) and defaults (red, TARGET = 1). Most loans are under 1 million, with repaid loans far more frequent. Defaults follow a similar pattern but at much lower rates across all amounts.\n",
        "\n",
        "The AMT_CREDIT distribution in the chart resembles a right-skewed (positive skew) distribution. Most loan amounts are concentrated on the lower end, with a long tail extending towards higher values. This suggests that smaller loans are more common, while larger loans are less frequent but still present."
      ],
      "metadata": {
        "id": "NDwOR0j8vgqB"
      }
    },
    {
      "cell_type": "code",
      "source": [
        "plot_feature_distribution_by_target(train, 'AMT_ANNUITY', 'TARGET')"
      ],
      "metadata": {
        "id": "DdNTFCRs7thY"
      },
      "execution_count": null,
      "outputs": []
    },
    {
      "cell_type": "markdown",
      "source": [
        "The plot shows the distribution of AMT_ANNUITY (loan annuity amount) for repaid loans (blue, TARGET = 0) and defaulted loans (red, TARGET = 1). Most annuities are concentrated at lower values, with a peak around 25,000, and the distribution is right-skewed. Defaults follow a similar pattern but occur at a much lower frequency across all annuity amounts. Smaller annuities are more common, but defaults still happen across different annuity levels."
      ],
      "metadata": {
        "id": "I1h6LXjTygNe"
      }
    },
    {
      "cell_type": "code",
      "source": [
        "plot_feature_distribution_by_target(train, 'AMT_GOODS_PRICE', 'TARGET')"
      ],
      "metadata": {
        "id": "txvXFFnx72yt"
      },
      "execution_count": null,
      "outputs": []
    },
    {
      "cell_type": "markdown",
      "source": [
        "The AMT_GOODS_PRICE distribution is right-skewed, with most values below 1 million. There are multiple peaks, likely reflecting common loan amounts for specific product prices. Repaid loans (blue) are far more frequent, but defaults (red) follow a similar pattern. The sharp spikes suggest standardized pricing, possibly for fixed-price goods or structured loan plans."
      ],
      "metadata": {
        "id": "HVqkkt94zgfe"
      }
    },
    {
      "cell_type": "markdown",
      "source": [
        "#### Overall Insights\n",
        "1. The AMT_CREDIT and AMT_GOODS_PRICE distributions show that most loan amounts are below 1 million. The multiple peaks in AMT_GOODS_PRICE suggest that people are borrowing fixed amounts, likely based on the cost of specific products (e.g., appliances, electronics, vehicles). This means loans aren't random amounts but rather follow predefined pricing structures.\n",
        "2. In all distributions (AMT_CREDIT, AMT_ANNUITY, AMT_GOODS_PRICE), repaid loans (TARGET = 0) and defaulted loans (TARGET = 1) have similar shapes. A borrower’s loan amount alone isn’t a strong predictor of default.\n",
        "3. Both cash loans and revolving loans have similar default proportions (as seen in the contract type plots). This indicates that the type of loan a person takes doesn’t significantly affect their likelihood of repayment.\n",
        "4. **The sharp spikes in AMT_GOODS_PRICE show that many loans are issued at fixed amounts, likely matching common retail product prices. Instead of borrowers requesting random amounts, they might be financing specific purchases (e.g., home appliances, cars, or mobile phones).**"
      ],
      "metadata": {
        "id": "Cbo_Ond-z6PX"
      }
    },
    {
      "cell_type": "markdown",
      "source": [
        "### Demographic Information:\n",
        "\n",
        "* CODE_GENDER\n",
        "* FLAG_OWN_CAR\n",
        "* FLAG_OWN_REALTY\n",
        "* CNT_CHILDREN\n",
        "* AMT_INCOME_TOTAL"
      ],
      "metadata": {
        "id": "lH5Z-GCD1rX6"
      }
    },
    {
      "cell_type": "code",
      "source": [
        "columns_to_describe = ['CODE_GENDER', 'FLAG_OWN_CAR', 'FLAG_OWN_REALTY', 'CNT_CHILDREN', 'AMT_INCOME_TOTAL']\n",
        "train[columns_to_describe].describe(include='all')"
      ],
      "metadata": {
        "id": "x89sD4AA54nF"
      },
      "execution_count": null,
      "outputs": []
    },
    {
      "cell_type": "code",
      "source": [
        "plt.figure(figsize=(12, 6))\n",
        "\n",
        "plt.subplot(1, 2, 1)\n",
        "gender_target_counts = train.groupby('CODE_GENDER')['TARGET'].value_counts().unstack()\n",
        "gender_target_counts.plot(kind='bar', stacked=True, ax=plt.gca())\n",
        "plt.title('Count of Target by Gender')\n",
        "plt.ylabel('Count')\n",
        "\n",
        "plt.subplot(1, 2, 2)\n",
        "gender_target_props = train.groupby('CODE_GENDER')['TARGET'].value_counts(normalize=True).unstack()\n",
        "gender_target_props.plot(kind='bar', stacked=True, ax=plt.gca())\n",
        "plt.title('Proportion of Target by Gender')\n",
        "plt.ylabel('Proportion')\n",
        "\n",
        "plt.tight_layout()\n",
        "plt.show()"
      ],
      "metadata": {
        "id": "BlRJbpLX1xNh"
      },
      "execution_count": null,
      "outputs": []
    },
    {
      "cell_type": "code",
      "source": [
        "plot_distribution_by_target(train, 'CODE_GENDER', 'TARGET')"
      ],
      "metadata": {
        "id": "MbD4_2Mo8BYT"
      },
      "execution_count": null,
      "outputs": []
    },
    {
      "cell_type": "code",
      "source": [
        "xna_gender_count = train[train['CODE_GENDER'] == 'XNA'].shape[0]\n",
        "\n",
        "print(f\"Number of 'XNA' genders: {xna_gender_count}\")"
      ],
      "metadata": {
        "id": "_ERvRWYI37AV"
      },
      "execution_count": null,
      "outputs": []
    },
    {
      "cell_type": "code",
      "source": [
        "plot_distribution_by_target(train, 'FLAG_OWN_CAR', 'TARGET')"
      ],
      "metadata": {
        "id": "585Ggm_Q8UUG"
      },
      "execution_count": null,
      "outputs": []
    },
    {
      "cell_type": "code",
      "source": [
        "plt.figure(figsize=(12, 6))\n",
        "sns.boxplot(x='FLAG_OWN_CAR', y='AMT_GOODS_PRICE', hue='TARGET', data=train)\n",
        "plt.title('AMT_GOODS_PRICE by Car Ownership and Target')\n",
        "plt.show()"
      ],
      "metadata": {
        "id": "RzrG--l54dED"
      },
      "execution_count": null,
      "outputs": []
    },
    {
      "cell_type": "code",
      "source": [
        "plot_distribution_by_target(train, 'FLAG_OWN_REALTY', 'TARGET')"
      ],
      "metadata": {
        "id": "G2qgK2938db7"
      },
      "execution_count": null,
      "outputs": []
    },
    {
      "cell_type": "code",
      "source": [
        "plt.figure(figsize=(12, 6))\n",
        "sns.boxplot(x='FLAG_OWN_REALTY', y='AMT_GOODS_PRICE', hue='TARGET', data=train)\n",
        "plt.title('AMT_GOODS_PRICE by Realty Ownership and Target')\n",
        "plt.show()"
      ],
      "metadata": {
        "id": "ftazM1rJ47Wn"
      },
      "execution_count": null,
      "outputs": []
    },
    {
      "cell_type": "code",
      "source": [
        "plot_distribution_by_target(train, 'CNT_CHILDREN', 'TARGET')"
      ],
      "metadata": {
        "id": "j1eEhAqk8kr8"
      },
      "execution_count": null,
      "outputs": []
    },
    {
      "cell_type": "code",
      "source": [
        "plot_feature_distribution_by_target(train, 'AMT_INCOME_TOTAL', 'TARGET')"
      ],
      "metadata": {
        "id": "KITkdczL85gQ"
      },
      "execution_count": null,
      "outputs": []
    },
    {
      "cell_type": "code",
      "source": [
        "plot_feature_distribution_by_target(train, 'AMT_INCOME_TOTAL', 'TARGET', remove_outliers=True, outlier_feature='AMT_INCOME_TOTAL', percentile=0.99)"
      ],
      "metadata": {
        "id": "RIQZuT4o9MeP"
      },
      "execution_count": null,
      "outputs": []
    },
    {
      "cell_type": "markdown",
      "source": [
        "Repaid loans (blue) dominate across all income levels, showing income impacts repayment ability. Multiple sharp peaks suggest many applicants report standardized or rounded salaries. While more common at lower incomes, defaults (red) still occur across higher brackets, meaning other risk factors matter."
      ],
      "metadata": {
        "id": "SjtzvguQ70JS"
      }
    },
    {
      "cell_type": "markdown",
      "source": [
        "#### Overall Insights\n",
        "1. More female applicants than males, but both genders have a similar proportion of defaults.\n",
        "2. Non-car owners have more loans overall, but default rates are similar for both groups.\n",
        "3. Real estate owners and non-owners have nearly identical default rates.\n",
        "4. Higher-income applicants repay loans more reliably, but defaults occur across all income levels.\n",
        "5. **Applicants with more children tend to default more, possibly due to higher financial burdens.**\n",
        "6. **AMT_GOODS_PRICE and AMT_CREDIT show standardized loan amounts, meaning loans are likely tied to specific products.**"
      ],
      "metadata": {
        "id": "K4IKKACn8uXq"
      }
    },
    {
      "cell_type": "markdown",
      "source": [
        "###Employment and Education:\n",
        "\n",
        "* NAME_INCOME_TYPE\n",
        "* NAME_EDUCATION_TYPE\n",
        "* DAYS_EMPLOYED\n",
        "* OCCUPATION_TYPE\n",
        "* FLAG_EMP_PHONE"
      ],
      "metadata": {
        "id": "RI6AJhY8BkO7"
      }
    },
    {
      "cell_type": "code",
      "source": [
        "columns_to_describe = ['NAME_INCOME_TYPE', 'NAME_EDUCATION_TYPE', 'DAYS_EMPLOYED', 'OCCUPATION_TYPE', 'FLAG_EMP_PHONE']\n",
        "train[columns_to_describe].describe(include='all')"
      ],
      "metadata": {
        "id": "tCWJzwrEa__p"
      },
      "execution_count": null,
      "outputs": []
    },
    {
      "cell_type": "code",
      "source": [
        "plot_distribution_by_target(train, 'NAME_INCOME_TYPE', 'TARGET')"
      ],
      "metadata": {
        "id": "jyQkuF3E9ksL"
      },
      "execution_count": null,
      "outputs": []
    },
    {
      "cell_type": "code",
      "source": [
        "plot_distribution_by_target(train, 'NAME_EDUCATION_TYPE', 'TARGET')"
      ],
      "metadata": {
        "id": "Jc_cBZOR-LoZ"
      },
      "execution_count": null,
      "outputs": []
    },
    {
      "cell_type": "code",
      "source": [
        "# prompt: plot distribution of DAYS_EMPLOYED by diving it by 365 to plot by years\n",
        "\n",
        "plt.figure(figsize=(12, 6))\n",
        "sns.histplot(train['DAYS_EMPLOYED'] / 365, kde=True)\n",
        "plt.xlabel('Years Employed')\n",
        "plt.ylabel('Frequency')\n",
        "plt.title('Distribution of DAYS_EMPLOYED (Years)')\n",
        "plt.show()"
      ],
      "metadata": {
        "id": "csUmAUz_Zu-2"
      },
      "execution_count": null,
      "outputs": []
    },
    {
      "cell_type": "code",
      "source": [
        "import matplotlib.pyplot as plt\n",
        "import seaborn as sns\n",
        "\n",
        "# Filter out negative values in DAYS_EMPLOYED\n",
        "filtered_days_employed = train[train['DAYS_EMPLOYED'] < 0]['DAYS_EMPLOYED']\n",
        "\n",
        "# Plot the distribution of DAYS_EMPLOYED (divided by 365 to represent years)\n",
        "plt.figure(figsize=(12, 6))\n",
        "sns.histplot(filtered_days_employed / -365, kde=True)\n",
        "plt.xlabel('Years Employed')\n",
        "plt.ylabel('Frequency')\n",
        "plt.title('Distribution of DAYS_EMPLOYED (Years)')\n",
        "plt.show()\n"
      ],
      "metadata": {
        "id": "Vbn2T94ucX7X"
      },
      "execution_count": null,
      "outputs": []
    },
    {
      "cell_type": "code",
      "source": [
        "# Filter the excluded values (negative and zero values)\n",
        "excluded_values = train[train['DAYS_EMPLOYED'] >= 0]\n",
        "\n",
        "# Display the excluded values\n",
        "print(\"Excluded values (DAYS_EMPLOYED <= 0):\")\n",
        "print(excluded_values['DAYS_EMPLOYED'])\n"
      ],
      "metadata": {
        "id": "K04JHOONdEpL"
      },
      "execution_count": null,
      "outputs": []
    },
    {
      "cell_type": "code",
      "source": [
        "# Filter the excluded values (negative and zero values)\n",
        "excluded_values = train[train['DAYS_EMPLOYED'] >= 0]\n",
        "\n",
        "# List the unique values\n",
        "unique_values = excluded_values['DAYS_EMPLOYED'].unique()\n",
        "print(\"Unique excluded values:\")\n",
        "print(unique_values)\n"
      ],
      "metadata": {
        "id": "hBfd7Mjvdc1Q"
      },
      "execution_count": null,
      "outputs": []
    },
    {
      "cell_type": "code",
      "source": [
        "plot_distribution_by_target(train, 'OCCUPATION_TYPE', 'TARGET')"
      ],
      "metadata": {
        "id": "B8lfcsj2w1Ic"
      },
      "execution_count": null,
      "outputs": []
    },
    {
      "cell_type": "code",
      "source": [
        "plot_distribution_by_target(train, 'FLAG_EMP_PHONE', 'TARGET')"
      ],
      "metadata": {
        "id": "Dv7Ab09_wsiL"
      },
      "execution_count": null,
      "outputs": []
    },
    {
      "cell_type": "markdown",
      "source": [
        "#### Overall Insights\n",
        "\n",
        "1. Unstable Income Groups Default More – Higher default rates among Unemployed and Maternity Leave individuals, while Working and Pensioners show lower risk.\n",
        "2. Lower Education Increases Risk – Secondary education and Incomplete higher education groups default more, whereas Academic Degree holders have lower default rates.\n",
        "3. Low-Skill Jobs Have Higher Defaults – Laborers, Sales Staff, and Drivers show greater default risk, while Accountants, HR, and IT Staff are more financially stable.\n",
        "4. Short Employment Duration is Risky – Shorter DAYS_EMPLOYED (few years of employment) correlates with a higher likelihood of default.\n",
        "5. Employment Phone Ownership Shows No Clear Impact – FLAG_EMP_PHONE does not significantly differentiate defaulters from non-defaulters.\n"
      ],
      "metadata": {
        "id": "kP93OiKJfOq0"
      }
    },
    {
      "cell_type": "markdown",
      "source": [
        "###Family and Housing:\n",
        "\n",
        "* NAME_FAMILY_STATUS\n",
        "* NAME_HOUSING_TYPE\n",
        "* CNT_FAM_MEMBERS"
      ],
      "metadata": {
        "id": "HIftSU7c_k27"
      }
    },
    {
      "cell_type": "code",
      "source": [
        "columns_to_describe = ['NAME_FAMILY_STATUS', 'NAME_HOUSING_TYPE', 'CNT_FAM_MEMBERS']\n",
        "train[columns_to_describe].describe(include='all')"
      ],
      "metadata": {
        "id": "gdTVmivJJy5R"
      },
      "execution_count": null,
      "outputs": []
    },
    {
      "cell_type": "code",
      "source": [
        "plot_distribution_by_target(train, 'NAME_FAMILY_STATUS', 'TARGET')"
      ],
      "metadata": {
        "id": "6nF0Fa04DcsK"
      },
      "execution_count": null,
      "outputs": []
    },
    {
      "cell_type": "code",
      "source": [
        "plot_distribution_by_target(train, 'NAME_HOUSING_TYPE', 'TARGET')"
      ],
      "metadata": {
        "id": "jd5li2s2EqVB"
      },
      "execution_count": null,
      "outputs": []
    },
    {
      "cell_type": "code",
      "source": [
        "plot_distribution_by_target(train, 'CNT_FAM_MEMBERS', 'TARGET')"
      ],
      "metadata": {
        "id": "l_LEgCVEFa7Y"
      },
      "execution_count": null,
      "outputs": []
    },
    {
      "cell_type": "markdown",
      "source": [
        "#### Overall Insights\n",
        "\n",
        "1. Married applicants form the majority of borrowers but have lower default rates. Single and separated applicants show slightly higher default proportions, indicating potential financial instability.\n",
        "2. Most applicants live in houses/apartments, but renters and those living with parents show higher default proportions.\n",
        "3. Most borrowers have 2-3 family members, and larger families show a higher proportion of defaults."
      ],
      "metadata": {
        "id": "XqD-qERUy1Lf"
      }
    },
    {
      "cell_type": "markdown",
      "source": [
        "###Regional and Residency Information:\n",
        "\n",
        "* REGION_POPULATION_RELATIVE\n",
        "* DAYS_BIRTH\n",
        "* DAYS_REGISTRATION\n",
        "* REG_REGION_NOT_LIVE_REGION\n",
        "* REG_CITY_NOT_LIVE_CITY"
      ],
      "metadata": {
        "id": "vmi3t2VECwLf"
      }
    },
    {
      "cell_type": "code",
      "source": [
        "columns_to_describe = ['REGION_POPULATION_RELATIVE', 'DAYS_BIRTH', 'DAYS_REGISTRATION', 'REG_REGION_NOT_LIVE_REGION', 'REG_CITY_NOT_LIVE_CITY']\n",
        "train[columns_to_describe].describe()"
      ],
      "metadata": {
        "id": "J3DdBHGPJotI"
      },
      "execution_count": null,
      "outputs": []
    },
    {
      "cell_type": "code",
      "source": [
        "plot_feature_distribution_by_target(train, 'REGION_POPULATION_RELATIVE', 'TARGET')"
      ],
      "metadata": {
        "id": "myN5H3usGiaq"
      },
      "execution_count": null,
      "outputs": []
    },
    {
      "cell_type": "code",
      "source": [
        "plt.figure(figsize=(12, 6))\n",
        "\n",
        "# Convert DAYS_BIRTH from days to years\n",
        "sns.histplot((train[train['TARGET'] == 0]['DAYS_BIRTH'] / -365), kde=True, label='TARGET = 0', color='blue', alpha=0.5)\n",
        "sns.histplot((train[train['TARGET'] == 1]['DAYS_BIRTH'] / -365), kde=True, label='TARGET = 1', color='red', alpha=0.5)\n",
        "\n",
        "plt.xlabel('Age (Years)')\n",
        "plt.ylabel('Frequency')\n",
        "plt.title('Distribution of Age by TARGET')\n",
        "plt.legend()\n",
        "plt.show()"
      ],
      "metadata": {
        "id": "hrB7Qd32GlCy"
      },
      "execution_count": null,
      "outputs": []
    },
    {
      "cell_type": "code",
      "source": [
        "plt.figure(figsize=(12, 6))\n",
        "\n",
        "# Convert DAYS_BIRTH from days to years\n",
        "sns.histplot((train[train['TARGET'] == 0]['DAYS_REGISTRATION'] / -365), kde=True, label='TARGET = 0', color='blue', alpha=0.5)\n",
        "sns.histplot((train[train['TARGET'] == 1]['DAYS_REGISTRATION'] / -365), kde=True, label='TARGET = 1', color='red', alpha=0.5)\n",
        "\n",
        "plt.xlabel('Age (Years)')\n",
        "plt.ylabel('Frequency')\n",
        "plt.title('Distribution of Registration by TARGET')\n",
        "plt.legend()\n",
        "plt.show()"
      ],
      "metadata": {
        "id": "7HdC1LQgH7Nx"
      },
      "execution_count": null,
      "outputs": []
    },
    {
      "cell_type": "code",
      "source": [
        "plot_distribution_by_target(train, 'REG_REGION_NOT_LIVE_REGION', 'TARGET')"
      ],
      "metadata": {
        "id": "qYbpJU3eIGq7"
      },
      "execution_count": null,
      "outputs": []
    },
    {
      "cell_type": "code",
      "source": [
        "plot_distribution_by_target(train, 'REG_CITY_NOT_LIVE_CITY', 'TARGET')"
      ],
      "metadata": {
        "id": "fOf4M3EKIW7K"
      },
      "execution_count": null,
      "outputs": []
    },
    {
      "cell_type": "markdown",
      "source": [
        "#### Overall Insights\n",
        "\n",
        "1. Default rates are more evenly spread across lower population density areas, suggesting that applicants from less populated regions might be at slightly higher risk.\n",
        "2. Younger applicants show higher default rates, while older borrowers tend to repay more reliably.\n",
        "3. Whether an applicant lives in a different region or city than registered does not significantly change default rates."
      ],
      "metadata": {
        "id": "iibdiiflKKsw"
      }
    },
    {
      "cell_type": "markdown",
      "source": [
        "###Application and Processing Information:\n",
        "\n",
        "* WEEKDAY_APPR_PROCESS_START\n",
        "* HOUR_APPR_PROCESS_START\n",
        "* ORGANIZATION_TYPE\n",
        "* FLAG_EMAIL"
      ],
      "metadata": {
        "id": "dNb5P6k-C3Wz"
      }
    },
    {
      "cell_type": "code",
      "source": [
        "plot_distribution_by_target(train, 'WEEKDAY_APPR_PROCESS_START', 'TARGET')"
      ],
      "metadata": {
        "id": "sk-zj0Z3PvYY"
      },
      "execution_count": null,
      "outputs": []
    },
    {
      "cell_type": "code",
      "source": [
        "plt.figure(figsize=(12, 6))\n",
        "\n",
        "sns.histplot(train[train['TARGET'] == 0]['HOUR_APPR_PROCESS_START'], kde=True, label=f'TARGET = 0', color='blue', alpha=0.5)\n",
        "sns.histplot(train[train['TARGET'] == 1]['HOUR_APPR_PROCESS_START'], kde=True, label=f'TARGET = 1', color='red', alpha=0.5)\n",
        "\n",
        "plt.xlabel('Hour of Application Process Start')\n",
        "plt.ylabel('Frequency')\n",
        "plt.title('Distribution of HOUR_APPR_PROCESS_START by Target')\n",
        "plt.legend()\n",
        "plt.show()"
      ],
      "metadata": {
        "id": "yzwb1aGMP2Mx"
      },
      "execution_count": null,
      "outputs": []
    },
    {
      "cell_type": "code",
      "source": [
        "plot_distribution_by_target(train, 'ORGANIZATION_TYPE', 'TARGET')"
      ],
      "metadata": {
        "id": "enpgPfLNQjxQ"
      },
      "execution_count": null,
      "outputs": []
    },
    {
      "cell_type": "code",
      "source": [
        "train['ORGANIZATION_TYPE'].nunique()"
      ],
      "metadata": {
        "id": "q4ZeOsHrQvPm"
      },
      "execution_count": null,
      "outputs": []
    },
    {
      "cell_type": "code",
      "source": [
        "plot_distribution_by_target(train, 'FLAG_EMAIL', 'TARGET')"
      ],
      "metadata": {
        "id": "LW_ehRanRh4O"
      },
      "execution_count": null,
      "outputs": []
    },
    {
      "cell_type": "markdown",
      "source": [
        "###Housing Characteristics (Aggregates and Averages):\n",
        "\n",
        "APARTMENTS_AVG, BASEMENTAREA_AVG, YEARS_BEGINEXPLUATATION_AVG, YEARS_BUILD_AVG\n",
        "ELEVATORS_AVG, ENTRANCES_AVG, FLOORSMAX_AVG"
      ],
      "metadata": {
        "id": "oi6IyYEBC8ze"
      }
    },
    {
      "cell_type": "markdown",
      "source": [
        "###Social Connections:\n",
        "\n",
        "* OBS_30_CNT_SOCIAL_CIRCLE\n",
        "* DEF_30_CNT_SOCIAL_CIRCLE\n",
        "* OBS_60_CNT_SOCIAL_CIRCLE\n",
        "* DEF_60_CNT_SOCIAL_CIRCLE"
      ],
      "metadata": {
        "id": "UKPHDMssDDFS"
      }
    },
    {
      "cell_type": "markdown",
      "source": [
        "###Document Flags:\n",
        "\n",
        "FLAG_DOCUMENT_2 to FLAG_DOCUMENT_21"
      ],
      "metadata": {
        "id": "3Amh5_P3DK9R"
      }
    },
    {
      "cell_type": "markdown",
      "source": [
        "###Credit Bureau Data:\n",
        "\n",
        "* AMT_REQ_CREDIT_BUREAU_HOUR\n",
        "* AMT_REQ_CREDIT_BUREAU_DAY\n",
        "* AMT_REQ_CREDIT_BUREAU_WEEK"
      ],
      "metadata": {
        "id": "MS3F18SIDOzA"
      }
    },
    {
      "cell_type": "markdown",
      "source": [
        "###External Sources and Scoring:\n",
        "\n",
        "EXT_SOURCE_1, EXT_SOURCE_2, EXT_SOURCE_3"
      ],
      "metadata": {
        "id": "HGtXGWCUDUl1"
      }
    },
    {
      "cell_type": "code",
      "source": [],
      "metadata": {
        "id": "gC0lR5A-_cr3"
      },
      "execution_count": null,
      "outputs": []
    },
    {
      "cell_type": "markdown",
      "source": [
        "#### **Backward Sequential Feature Selection**\n"
      ],
      "metadata": {
        "id": "PilJpIayeC7t"
      }
    },
    {
      "cell_type": "markdown",
      "source": [
        "Working Code for submitting the results"
      ],
      "metadata": {
        "id": "STRUbgX0YmIe"
      }
    },
    {
      "cell_type": "code",
      "source": [
        "import pandas as pd\n",
        "import xgboost as xgb\n",
        "from sklearn.model_selection import train_test_split\n",
        "from sklearn.utils.class_weight import compute_sample_weight\n",
        "\n",
        "# Feature engineering and preprocessing (example - adapt to your specific needs)\n",
        "features = ['AMT_INCOME_TOTAL', 'AMT_CREDIT', 'AMT_ANNUITY', 'AMT_GOODS_PRICE']  # Example features\n",
        "categorical_features = ['NAME_CONTRACT_TYPE', 'CODE_GENDER'] # Example Categorical Features\n",
        "for col in categorical_features:\n",
        "    train[col] = train[col].astype('category').cat.codes\n",
        "    test[col] = test[col].astype('category').cat.codes\n",
        "\n",
        "# Handle missing values (example - use more sophisticated methods if needed)\n",
        "train = train.fillna(0)\n",
        "test = test.fillna(0)\n",
        "\n",
        "X = train[features + categorical_features]\n",
        "y = train['TARGET']\n",
        "X_train, X_val, y_train, y_val = train_test_split(X, y, test_size=0.2, random_state=42)\n",
        "\n",
        "# Compute class weights\n",
        "sample_weights = compute_sample_weight(class_weight='balanced', y=y_train)\n",
        "\n",
        "# Create and train the XGBoost model with class weights\n",
        "model = xgb.XGBClassifier(use_label_encoder=False, eval_metric='logloss', random_state=42)\n",
        "model.fit(X_train, y_train, sample_weight=sample_weights)\n",
        "\n",
        "# Make predictions on the test set\n",
        "X_test = test[features + categorical_features]\n",
        "predictions = model.predict_proba(X_test)[:, 1]  # Probability of TARGET = 1\n",
        "\n",
        "# Create submission file\n",
        "submission = pd.DataFrame({'SK_ID_CURR': test['SK_ID_CURR'], 'TARGET': predictions})\n",
        "submission.to_csv('submission.csv', index=False)\n",
        "\n",
        "print(\"Submission file 'submission.csv' created successfully.\")"
      ],
      "metadata": {
        "id": "Mdeiu9fHXtxC",
        "colab": {
          "base_uri": "https://localhost:8080/"
        },
        "outputId": "39cb047a-255e-4b12-a4b9-f4db04fdcb63"
      },
      "execution_count": null,
      "outputs": [
        {
          "output_type": "stream",
          "name": "stderr",
          "text": [
            "/usr/local/lib/python3.10/dist-packages/xgboost/core.py:158: UserWarning: [08:29:23] WARNING: /workspace/src/learner.cc:740: \n",
            "Parameters: { \"use_label_encoder\" } are not used.\n",
            "\n",
            "  warnings.warn(smsg, UserWarning)\n"
          ]
        },
        {
          "output_type": "stream",
          "name": "stdout",
          "text": [
            "Submission file 'submission.csv' created successfully.\n"
          ]
        }
      ]
    },
    {
      "cell_type": "code",
      "source": [
        "# prompt: shiw files in this directory: /content/sample_data\n",
        "\n",
        "!ls /datalab"
      ],
      "metadata": {
        "colab": {
          "base_uri": "https://localhost:8080/"
        },
        "id": "GVobx1KpVNa7",
        "outputId": "f36eb1b1-f4e7-4616-d8cd-da9cf9d6785e"
      },
      "execution_count": null,
      "outputs": [
        {
          "output_type": "stream",
          "name": "stdout",
          "text": [
            "run.sh\tweb\n"
          ]
        }
      ]
    },
    {
      "cell_type": "code",
      "source": [],
      "metadata": {
        "id": "FCm7W4rhVVN_"
      },
      "execution_count": null,
      "outputs": []
    },
    {
      "cell_type": "code",
      "source": [
        "from google.colab import drive\n",
        "drive.mount('/content/drive')"
      ],
      "metadata": {
        "id": "3XfD2nh6W48J"
      },
      "execution_count": null,
      "outputs": []
    }
  ],
  "metadata": {
    "colab": {
      "provenance": [],
      "mount_file_id": "1V-4El6jlHkDmG_4GbUD5JK6bUew_6Yvf",
      "authorship_tag": "ABX9TyOuHIF5nrK0hD6Tr2jIIXA9",
      "include_colab_link": true
    },
    "kernelspec": {
      "display_name": "Python 3",
      "name": "python3"
    },
    "language_info": {
      "name": "python"
    }
  },
  "nbformat": 4,
  "nbformat_minor": 0
}